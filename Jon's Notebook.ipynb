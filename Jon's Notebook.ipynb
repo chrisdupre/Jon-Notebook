{
 "cells": [
  {
   "cell_type": "code",
   "execution_count": 19,
   "id": "ffb60c76",
   "metadata": {},
   "outputs": [],
   "source": [
    "import random as rand \n",
    "import datetime as dt\n",
    "import json\n",
    "albumString = \" Neil Young & Crazy Horse: Barn (Reprise),The Jeffrey Lewis & Peter Stampfel Band: Both Ways (Bandcamp), Spillage Village: Spilligion (Dreamville/SinceThe80s/Interscope ‘20),Olivia Rodrigo: Sour (Geffen),Burnt Sugar/The Arkestra Chamber: Angels Over Oakanda (CDBaby),Peter Stampfel: Peter Stampfel’s 20th Century in 100 Songs (Louisiana Red Hot),Tune-Yards: Sketchy (4AD),Illuminati Hotties: Let Me Do One More (Snack Shack Track/Hopeless),Low Cut Connie: Tough Cookies: Best of the Quarantine Broadcasts (Contender),Nathan Bell: Red, White and American Blues (It Couldn’t Happen Here) (Need to Know),Carly Pearce: 29 (Big Machine),The Front Bottoms: In Sickness and in Flames (Fueled by Ramen ‘20),Sleater-Kinney: Path of Wellness (Mom + Pop),Chuck Berry: Live From Blueberry Hill (Dualtone),Chai: Wink (Sub Pop),Body Meπa: The Work Is Slow (Hausu Mountain),Billie Eilish: Happier Than Ever (Darkroom/Interscope),R.A.P. Ferreira: Purple Moonlight Pages (Ruby Yacht ‘20),Lori McKenna: Christmas Is Right Here (CN/Thirty Tigers),Sacred Soul of North Carolina (Bible & Tire/Music Maker Foundation),Joseph Spence: Encore: Unheard Recordings of Bahamian Guitar and Singing (Smithsonian Folkways),Morgan Wade: Reckless (Ladylike),Kalie Shorr: I Got Here by Accident (Kalie Shorr),Sarah Mary Chadwick: Me and Ennui Are Friends, Baby (Ba Da Bing),James McMurtry: The Horses and the Hounds (New West),Khaira Arby: New York Live (Clermont Music),The Plastic People of the Universe: Apokalyptickej Pták (Galén ‘18),Dry Cleaning: Sweet Princess EP (It’s OK ‘19),Anansy Cissé: Anoura (Riverboat),Onetwothree: Onetwothree (Kill Rock Stars),Dave: Psychodrama (Neighbourhood ‘19),Lucy Dacus: Home Video (Matador),Paris: Safe Space Invader (Guerrilla Funk ‘20),Juice Wrld: Legends Never Die (A Grade/Interscope ‘20),Dave: We’re All Alone in This Together (Dave/Neighbourhood),Courtney Barnett: Things Take Time, Take Time (Mom + Pop),Hayes Carll: You Get It All (Dualtone),Gift of Gab: Finding Inspiration Somehow (Nature Sounds),Mereba: Azeb (Interscope),Dry Cleaning: New Long Leg (4AD),Joe Fahey: February on Ice (Rough Fish),Thomas Anderson: Ladies and Germs (Out There),Lana Del Rey: Chemtrails Over the Country Club (Polydor/Interscope),Mickey Guyton: Remember Her Name (Capitol),Mach-Hommy: Pray for Haiti (Griselda),Liz Phair: Soberish (Chrysalis),Idles: Ultra Mono: Momentary Acceptance of the Self (Partisan ‘20),Carly Pearce: 29: Written in Stone (Big Machine),Asleep at the Wheel: Half a Hundred Years (Bismeaux),Parquet Courts: Sympathy for Life (Rough Trade),Doja Cat: Planet Her (RCA),Emily Duff: Razor Blade Smile (Mr. Mudshow Music),Anthony Joseph: The Rich Are Only Defeated When Running for Their Lives (Heavenly Sweetness),Kasai Allstars: Black Ants Always Fly Together, One Bangle Makes No Sound (Crammed Discs),R.A.P. Ferreira: Bob’s Son: Rap Ferreira in the Garden Level Cafe of the Scallops Hotel (Ruby Yacht),Sho Madjozi: Limpopo Champions League (Flourish and Multiply ‘18),Lithics: Tower of Age (Trouble in Mind),Girl in Red: If I Could Make It Go Quiet (Girl in Red),Loretta Lynn: Still Woman Enough (Legacy),No-No Boy: 1975 (Smithsonian Folkways),Gyedu-Blay Ambolley: 11th Street, Sekondi (Agogo ‘19),Garbage: No Gods No Masters (Stunvolume/Infectious Music),Illuminati Hotties: FREE I.H: This Is Not the One You’ve Been Waiting For (Snack Shack Tracks ‘20),I’ll Be Your Mirror: A Tribute to The Velvet Underground & Nico (Verve),Jason Isbell and the 400 Unit: Georgia Blue (Southeastern),Carsie Blanton: Love and Rage (So Ferocious),Neil Young With Crazy Horse: Way Down in the Rust Bucket (Reprise),Vic Mensa: I Tape (Roc Nation),Eminem: Music to Be Murdered By: Side B (Deluxe Edition)  (Aftermath/Shady/Interscope/Goliath),Naeem: Startisha (37d03d),Mike: The Weight of the World (10k ‘20)\"\n",
    "albumArr = albumString.split(\",\")\n",
    "with open('hist.json') as json_file:\n",
    "    hist = json.load(json_file)"
   ]
  },
  {
   "cell_type": "code",
   "execution_count": 20,
   "id": "38fb0fae",
   "metadata": {},
   "outputs": [
    {
     "name": "stdout",
     "output_type": "stream",
     "text": [
      "This week's album is Body Meπa: The Work Is Slow (Hausu Mountain)\n"
     ]
    }
   ],
   "source": [
    "randn = rand.randint(0,len(albumArr)-1)\n",
    "date = dt.datetime.now().strftime(\"%x\")\n",
    "print(\"This week's album is \" + albumArr[randn])\n",
    "hist.update({date: albumArr[randn]})\n",
    "with open('hist.json', 'w') as f:\n",
    "    json.dump(hist, f)"
   ]
  },
  {
   "cell_type": "code",
   "execution_count": 21,
   "id": "35610eae",
   "metadata": {},
   "outputs": [
    {
     "data": {
      "text/plain": [
       "{'10/01/22': 'Body Meπa:\\xa0The Work Is Slow\\xa0(Hausu Mountain)'}"
      ]
     },
     "execution_count": 21,
     "metadata": {},
     "output_type": "execute_result"
    }
   ],
   "source": [
    "hist"
   ]
  },
  {
   "cell_type": "code",
   "execution_count": null,
   "id": "dc2367aa",
   "metadata": {},
   "outputs": [],
   "source": []
  }
 ],
 "metadata": {
  "kernelspec": {
   "display_name": "Python 3",
   "language": "python",
   "name": "python3"
  },
  "language_info": {
   "codemirror_mode": {
    "name": "ipython",
    "version": 3
   },
   "file_extension": ".py",
   "mimetype": "text/x-python",
   "name": "python",
   "nbconvert_exporter": "python",
   "pygments_lexer": "ipython3",
   "version": "3.8.8"
  }
 },
 "nbformat": 4,
 "nbformat_minor": 5
}
